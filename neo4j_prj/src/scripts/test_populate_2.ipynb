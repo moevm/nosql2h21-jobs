{
 "cells": [
  {
   "cell_type": "code",
   "execution_count": 1,
   "metadata": {
    "collapsed": true
   },
   "outputs": [],
   "source": [
    "import json\n",
    "\n",
    "from hh_api import hh_api,preprocess as hh_prep\n",
    "from neo_api import neo_api\n",
    "import base64"
   ]
  },
  {
   "cell_type": "code",
   "execution_count": 2,
   "outputs": [
    {
     "data": {
      "text/plain": "'done'"
     },
     "execution_count": 2,
     "metadata": {},
     "output_type": "execute_result"
    }
   ],
   "source": [
    "hh = hh_api.Hh_api()\n",
    "neo = neo_api.Neo_api()\n",
    "\"done\""
   ],
   "metadata": {
    "collapsed": false,
    "pycharm": {
     "name": "#%%\n"
    }
   }
  },
  {
   "cell_type": "code",
   "execution_count": null,
   "outputs": [],
   "source": [
    "vacs = hh.get_vacancy_by_name(name=\"Аналитик\",num_of_pages=1)\n",
    "\"done\""
   ],
   "metadata": {
    "collapsed": false,
    "pycharm": {
     "name": "#%%\n"
    }
   }
  },
  {
   "cell_type": "code",
   "execution_count": null,
   "outputs": [],
   "source": [
    "vacs"
   ],
   "metadata": {
    "collapsed": false,
    "pycharm": {
     "name": "#%%\n"
    }
   }
  },
  {
   "cell_type": "code",
   "execution_count": null,
   "outputs": [],
   "source": [
    "for vac in vacs:\n",
    "    vac_all = hh_prep.preproc_vacancy(vac)\n",
    "    neo.create_vacancy_all(vac_all)\n",
    "\"done\""
   ],
   "metadata": {
    "collapsed": false,
    "pycharm": {
     "name": "#%%\n"
    }
   }
  },
  {
   "cell_type": "code",
   "execution_count": null,
   "outputs": [],
   "source": [
    "vac = hh.get_vacancy_by_id_raw(49186604)"
   ],
   "metadata": {
    "collapsed": false,
    "pycharm": {
     "name": "#%%\n"
    }
   }
  },
  {
   "cell_type": "code",
   "execution_count": null,
   "outputs": [],
   "source": [
    "vac_all = hh_prep.preproc_vacancy(vac)\n",
    "vac_all\n"
   ],
   "metadata": {
    "collapsed": false,
    "pycharm": {
     "name": "#%%\n"
    }
   }
  },
  {
   "cell_type": "code",
   "execution_count": null,
   "outputs": [],
   "source": [
    "neo.create_vacancy_all(vac_all)"
   ],
   "metadata": {
    "collapsed": false,
    "pycharm": {
     "name": "#%%\n"
    }
   }
  },
  {
   "cell_type": "code",
   "execution_count": null,
   "outputs": [],
   "source": [
    "# res = api.get_vacancy_by_id_raw(49186602)\n",
    "res = hh.get_vacancy_by_name(\"Аналитик\")\n",
    "print(json.dumps(res, indent = 1, ensure_ascii=False))"
   ],
   "metadata": {
    "collapsed": false,
    "pycharm": {
     "name": "#%%\n"
    }
   }
  },
  {
   "cell_type": "code",
   "execution_count": 3,
   "outputs": [
    {
     "name": "stdout",
     "output_type": "stream",
     "text": [
      "CPU times: user 346 ms, sys: 44.4 ms, total: 390 ms\n",
      "Wall time: 11 s\n"
     ]
    },
    {
     "data": {
      "text/plain": "'done'"
     },
     "execution_count": 3,
     "metadata": {},
     "output_type": "execute_result"
    }
   ],
   "source": [
    "%%time\n",
    "neo.count_ks_weight()\n",
    "\"done\""
   ],
   "metadata": {
    "collapsed": false,
    "pycharm": {
     "name": "#%%\n"
    }
   }
  },
  {
   "cell_type": "code",
   "execution_count": 4,
   "outputs": [
    {
     "name": "stdout",
     "output_type": "stream",
     "text": [
      "CPU times: user 388 ms, sys: 64.5 ms, total: 452 ms\n",
      "Wall time: 12.6 s\n"
     ]
    },
    {
     "data": {
      "text/plain": "'done'"
     },
     "execution_count": 4,
     "metadata": {},
     "output_type": "execute_result"
    }
   ],
   "source": [
    "%%time\n",
    "neo.count_vac_weight()\n",
    "\"done\""
   ],
   "metadata": {
    "collapsed": false,
    "pycharm": {
     "name": "#%%\n"
    }
   }
  },
  {
   "cell_type": "code",
   "execution_count": 5,
   "outputs": [
    {
     "name": "stdout",
     "output_type": "stream",
     "text": [
      "CPU times: user 102 ms, sys: 11.2 ms, total: 114 ms\n",
      "Wall time: 284 ms\n"
     ]
    },
    {
     "data": {
      "text/plain": "[{'vacancy_id': 50638680,\n  'common_key_skills': [{'name': 'Ответственность', 'w': 2}],\n  'cnt': 1},\n {'vacancy_id': 50382262,\n  'common_key_skills': [{'name': 'Системный анализ', 'w': 12}],\n  'cnt': 1},\n {'vacancy_id': 48978645,\n  'common_key_skills': [{'name': 'Системный анализ', 'w': 12}],\n  'cnt': 1},\n {'vacancy_id': 50517333,\n  'common_key_skills': [{'name': 'Системный анализ', 'w': 12}],\n  'cnt': 1},\n {'vacancy_id': 47890136,\n  'common_key_skills': [{'name': 'Системный анализ', 'w': 12},\n   {'name': 'аналитик', 'w': 3},\n   {'name': 'SQL', 'w': 75}],\n  'cnt': 3},\n {'vacancy_id': 48923488,\n  'common_key_skills': [{'name': 'SQL', 'w': 75},\n   {'name': 'Системный анализ', 'w': 12}],\n  'cnt': 2},\n {'vacancy_id': 47107557,\n  'common_key_skills': [{'name': 'SQL', 'w': 75},\n   {'name': 'Системный анализ', 'w': 12}],\n  'cnt': 2},\n {'vacancy_id': 50058544,\n  'common_key_skills': [{'name': 'Системный анализ', 'w': 12}],\n  'cnt': 1},\n {'vacancy_id': 45268867,\n  'common_key_skills': [{'name': 'Системный анализ', 'w': 12}],\n  'cnt': 1},\n {'vacancy_id': 49441368,\n  'common_key_skills': [{'name': 'Системный анализ', 'w': 12}],\n  'cnt': 1},\n {'vacancy_id': 50305665,\n  'common_key_skills': [{'name': 'Системный анализ', 'w': 12}],\n  'cnt': 1},\n {'vacancy_id': 50153854,\n  'common_key_skills': [{'name': 'SQL', 'w': 75},\n   {'name': 'Системный анализ', 'w': 12}],\n  'cnt': 2},\n {'vacancy_id': 50017474,\n  'common_key_skills': [{'name': 'аналитик', 'w': 3},\n   {'name': 'SQL', 'w': 75}],\n  'cnt': 2},\n {'vacancy_id': 47890136,\n  'common_key_skills': [{'name': 'Системный анализ', 'w': 12},\n   {'name': 'аналитик', 'w': 3},\n   {'name': 'SQL', 'w': 75}],\n  'cnt': 3},\n {'vacancy_id': 49997698,\n  'common_key_skills': [{'name': 'SQL', 'w': 75}, {'name': 'REST', 'w': 4}],\n  'cnt': 2},\n {'vacancy_id': 48850679,\n  'common_key_skills': [{'name': 'SQL', 'w': 75}, {'name': 'REST', 'w': 4}],\n  'cnt': 2},\n {'vacancy_id': 50040064,\n  'common_key_skills': [{'name': 'REST', 'w': 4}],\n  'cnt': 1},\n {'vacancy_id': 49810523,\n  'common_key_skills': [{'name': 'SQL', 'w': 75}],\n  'cnt': 1},\n {'vacancy_id': 50539892,\n  'common_key_skills': [{'name': 'SQL', 'w': 75}],\n  'cnt': 1},\n {'vacancy_id': 50142486,\n  'common_key_skills': [{'name': 'SQL', 'w': 75}],\n  'cnt': 1},\n {'vacancy_id': 50650604,\n  'common_key_skills': [{'name': 'SQL', 'w': 75}],\n  'cnt': 1},\n {'vacancy_id': 50062528,\n  'common_key_skills': [{'name': 'SQL', 'w': 75}],\n  'cnt': 1},\n {'vacancy_id': 49810524,\n  'common_key_skills': [{'name': 'SQL', 'w': 75}],\n  'cnt': 1},\n {'vacancy_id': 48985295,\n  'common_key_skills': [{'name': 'SQL', 'w': 75}],\n  'cnt': 1},\n {'vacancy_id': 50374885,\n  'common_key_skills': [{'name': 'SQL', 'w': 75}],\n  'cnt': 1},\n {'vacancy_id': 50420822,\n  'common_key_skills': [{'name': 'SQL', 'w': 75}],\n  'cnt': 1},\n {'vacancy_id': 50668942,\n  'common_key_skills': [{'name': 'SQL', 'w': 75}],\n  'cnt': 1},\n {'vacancy_id': 50017474,\n  'common_key_skills': [{'name': 'аналитик', 'w': 3},\n   {'name': 'SQL', 'w': 75}],\n  'cnt': 2},\n {'vacancy_id': 50414353,\n  'common_key_skills': [{'name': 'SQL', 'w': 75}],\n  'cnt': 1},\n {'vacancy_id': 39904397,\n  'common_key_skills': [{'name': 'SQL', 'w': 75}],\n  'cnt': 1},\n {'vacancy_id': 50609593,\n  'common_key_skills': [{'name': 'SQL', 'w': 75}],\n  'cnt': 1},\n {'vacancy_id': 49575693,\n  'common_key_skills': [{'name': 'SQL', 'w': 75}],\n  'cnt': 1},\n {'vacancy_id': 50631573,\n  'common_key_skills': [{'name': 'SQL', 'w': 75}],\n  'cnt': 1},\n {'vacancy_id': 47890136,\n  'common_key_skills': [{'name': 'Системный анализ', 'w': 12},\n   {'name': 'аналитик', 'w': 3},\n   {'name': 'SQL', 'w': 75}],\n  'cnt': 3},\n {'vacancy_id': 50674226,\n  'common_key_skills': [{'name': 'SQL', 'w': 75}],\n  'cnt': 1},\n {'vacancy_id': 49689503,\n  'common_key_skills': [{'name': 'SQL', 'w': 75}],\n  'cnt': 1},\n {'vacancy_id': 46147513,\n  'common_key_skills': [{'name': 'SQL', 'w': 75}],\n  'cnt': 1},\n {'vacancy_id': 50349559,\n  'common_key_skills': [{'name': 'SQL', 'w': 75}],\n  'cnt': 1},\n {'vacancy_id': 48130862,\n  'common_key_skills': [{'name': 'SQL', 'w': 75}],\n  'cnt': 1},\n {'vacancy_id': 49929750,\n  'common_key_skills': [{'name': 'SQL', 'w': 75}],\n  'cnt': 1},\n {'vacancy_id': 50315732,\n  'common_key_skills': [{'name': 'SQL', 'w': 75}],\n  'cnt': 1},\n {'vacancy_id': 50068640,\n  'common_key_skills': [{'name': 'SQL', 'w': 75}],\n  'cnt': 1},\n {'vacancy_id': 50535484,\n  'common_key_skills': [{'name': 'SQL', 'w': 75}],\n  'cnt': 1},\n {'vacancy_id': 50271592,\n  'common_key_skills': [{'name': 'SQL', 'w': 75}],\n  'cnt': 1},\n {'vacancy_id': 48321428,\n  'common_key_skills': [{'name': 'SQL', 'w': 75}],\n  'cnt': 1},\n {'vacancy_id': 50111207,\n  'common_key_skills': [{'name': 'SQL', 'w': 75}],\n  'cnt': 1},\n {'vacancy_id': 49147901,\n  'common_key_skills': [{'name': 'SQL', 'w': 75}],\n  'cnt': 1},\n {'vacancy_id': 50153854,\n  'common_key_skills': [{'name': 'SQL', 'w': 75},\n   {'name': 'Системный анализ', 'w': 12}],\n  'cnt': 2},\n {'vacancy_id': 49810522,\n  'common_key_skills': [{'name': 'SQL', 'w': 75}],\n  'cnt': 1},\n {'vacancy_id': 47794224,\n  'common_key_skills': [{'name': 'SQL', 'w': 75}],\n  'cnt': 1},\n {'vacancy_id': 46241509,\n  'common_key_skills': [{'name': 'SQL', 'w': 75}],\n  'cnt': 1},\n {'vacancy_id': 50143687,\n  'common_key_skills': [{'name': 'SQL', 'w': 75}],\n  'cnt': 1},\n {'vacancy_id': 50221398,\n  'common_key_skills': [{'name': 'SQL', 'w': 75}],\n  'cnt': 1},\n {'vacancy_id': 49916590,\n  'common_key_skills': [{'name': 'SQL', 'w': 75}],\n  'cnt': 1},\n {'vacancy_id': 50651830,\n  'common_key_skills': [{'name': 'SQL', 'w': 75}],\n  'cnt': 1},\n {'vacancy_id': 50499991,\n  'common_key_skills': [{'name': 'SQL', 'w': 75}],\n  'cnt': 1},\n {'vacancy_id': 50610616,\n  'common_key_skills': [{'name': 'SQL', 'w': 75}],\n  'cnt': 1},\n {'vacancy_id': 50278163,\n  'common_key_skills': [{'name': 'SQL', 'w': 75}],\n  'cnt': 1},\n {'vacancy_id': 50508008,\n  'common_key_skills': [{'name': 'SQL', 'w': 75}],\n  'cnt': 1},\n {'vacancy_id': 49951773,\n  'common_key_skills': [{'name': 'SQL', 'w': 75}],\n  'cnt': 1},\n {'vacancy_id': 50397460,\n  'common_key_skills': [{'name': 'SQL', 'w': 75}],\n  'cnt': 1},\n {'vacancy_id': 49884119,\n  'common_key_skills': [{'name': 'SQL', 'w': 75}],\n  'cnt': 1},\n {'vacancy_id': 50685155,\n  'common_key_skills': [{'name': 'SQL', 'w': 75}],\n  'cnt': 1},\n {'vacancy_id': 50675055,\n  'common_key_skills': [{'name': 'SQL', 'w': 75}],\n  'cnt': 1},\n {'vacancy_id': 50321463,\n  'common_key_skills': [{'name': 'SQL', 'w': 75}],\n  'cnt': 1},\n {'vacancy_id': 47540806,\n  'common_key_skills': [{'name': 'SQL', 'w': 75}],\n  'cnt': 1},\n {'vacancy_id': 50445969,\n  'common_key_skills': [{'name': 'SQL', 'w': 75}],\n  'cnt': 1},\n {'vacancy_id': 50325279,\n  'common_key_skills': [{'name': 'SQL', 'w': 75}],\n  'cnt': 1},\n {'vacancy_id': 48850679,\n  'common_key_skills': [{'name': 'SQL', 'w': 75}, {'name': 'REST', 'w': 4}],\n  'cnt': 2},\n {'vacancy_id': 50525872,\n  'common_key_skills': [{'name': 'SQL', 'w': 75}],\n  'cnt': 1},\n {'vacancy_id': 49558048,\n  'common_key_skills': [{'name': 'SQL', 'w': 75}],\n  'cnt': 1},\n {'vacancy_id': 50609687,\n  'common_key_skills': [{'name': 'SQL', 'w': 75}],\n  'cnt': 1},\n {'vacancy_id': 47708671,\n  'common_key_skills': [{'name': 'SQL', 'w': 75}],\n  'cnt': 1},\n {'vacancy_id': 49546497,\n  'common_key_skills': [{'name': 'SQL', 'w': 75}],\n  'cnt': 1},\n {'vacancy_id': 50563852,\n  'common_key_skills': [{'name': 'SQL', 'w': 75}],\n  'cnt': 1},\n {'vacancy_id': 50298075,\n  'common_key_skills': [{'name': 'SQL', 'w': 75}],\n  'cnt': 1},\n {'vacancy_id': 50431414,\n  'common_key_skills': [{'name': 'SQL', 'w': 75}],\n  'cnt': 1},\n {'vacancy_id': 33100723,\n  'common_key_skills': [{'name': 'SQL', 'w': 75}],\n  'cnt': 1},\n {'vacancy_id': 50171176,\n  'common_key_skills': [{'name': 'SQL', 'w': 75}],\n  'cnt': 1},\n {'vacancy_id': 50676082,\n  'common_key_skills': [{'name': 'SQL', 'w': 75}],\n  'cnt': 1},\n {'vacancy_id': 49625575,\n  'common_key_skills': [{'name': 'SQL', 'w': 75}],\n  'cnt': 1},\n {'vacancy_id': 50151283,\n  'common_key_skills': [{'name': 'SQL', 'w': 75}],\n  'cnt': 1},\n {'vacancy_id': 47107557,\n  'common_key_skills': [{'name': 'SQL', 'w': 75},\n   {'name': 'Системный анализ', 'w': 12}],\n  'cnt': 2},\n {'vacancy_id': 49038495,\n  'common_key_skills': [{'name': 'SQL', 'w': 75}],\n  'cnt': 1},\n {'vacancy_id': 50187676,\n  'common_key_skills': [{'name': 'SQL', 'w': 75}],\n  'cnt': 1},\n {'vacancy_id': 50252365,\n  'common_key_skills': [{'name': 'SQL', 'w': 75}],\n  'cnt': 1},\n {'vacancy_id': 49576202,\n  'common_key_skills': [{'name': 'SQL', 'w': 75}],\n  'cnt': 1},\n {'vacancy_id': 49547368,\n  'common_key_skills': [{'name': 'SQL', 'w': 75}],\n  'cnt': 1},\n {'vacancy_id': 48923488,\n  'common_key_skills': [{'name': 'SQL', 'w': 75},\n   {'name': 'Системный анализ', 'w': 12}],\n  'cnt': 2},\n {'vacancy_id': 48466897,\n  'common_key_skills': [{'name': 'SQL', 'w': 75}],\n  'cnt': 1},\n {'vacancy_id': 49997698,\n  'common_key_skills': [{'name': 'SQL', 'w': 75}, {'name': 'REST', 'w': 4}],\n  'cnt': 2}]"
     },
     "execution_count": 5,
     "metadata": {},
     "output_type": "execute_result"
    }
   ],
   "source": [
    "%%time\n",
    "neo.get_similar_vacs_by_ks_all(50217143)\n"
   ],
   "metadata": {
    "collapsed": false,
    "pycharm": {
     "name": "#%%\n"
    }
   }
  },
  {
   "cell_type": "code",
   "execution_count": null,
   "outputs": [],
   "source": [
    "neo.get_kss_for_vac(50217143)"
   ],
   "metadata": {
    "collapsed": false,
    "pycharm": {
     "name": "#%%\n"
    }
   }
  },
  {
   "cell_type": "code",
   "execution_count": null,
   "outputs": [],
   "source": [
    "ids = neo.export()\n"
   ],
   "metadata": {
    "collapsed": false,
    "pycharm": {
     "name": "#%%\n"
    }
   }
  },
  {
   "cell_type": "code",
   "execution_count": null,
   "outputs": [],
   "source": [
    "text = json.dumps(ids)\n",
    "b = base64.b64encode(text.encode())\n",
    "# b = str(b)\n",
    "b = b.decode()\n",
    "b"
   ],
   "metadata": {
    "collapsed": false,
    "pycharm": {
     "name": "#%%\n"
    }
   }
  },
  {
   "cell_type": "code",
   "execution_count": null,
   "outputs": [],
   "source": [
    "json.loads(base64.b64decode(b).decode())"
   ],
   "metadata": {
    "collapsed": false,
    "pycharm": {
     "name": "#%%\n"
    }
   }
  },
  {
   "cell_type": "code",
   "execution_count": null,
   "outputs": [],
   "source": [
    "str(neo.exec(\"CALL db.indexes\")).find(\"FULLTEXT\") != -1"
   ],
   "metadata": {
    "collapsed": false,
    "pycharm": {
     "name": "#%%\n"
    }
   }
  }
 ],
 "metadata": {
  "kernelspec": {
   "display_name": "Python 3",
   "language": "python",
   "name": "python3"
  },
  "language_info": {
   "codemirror_mode": {
    "name": "ipython",
    "version": 2
   },
   "file_extension": ".py",
   "mimetype": "text/x-python",
   "name": "python",
   "nbconvert_exporter": "python",
   "pygments_lexer": "ipython2",
   "version": "2.7.6"
  }
 },
 "nbformat": 4,
 "nbformat_minor": 0
}