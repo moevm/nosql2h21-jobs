{
 "cells": [
  {
   "cell_type": "code",
   "execution_count": 9,
   "metadata": {
    "collapsed": true
   },
   "outputs": [],
   "source": [
    "import json\n",
    "\n",
    "from hh_api import hh_api,preprocess as hh_prep\n",
    "from neo_api import neo_api\n",
    "import base64"
   ]
  },
  {
   "cell_type": "code",
   "execution_count": 4,
   "outputs": [
    {
     "data": {
      "text/plain": "'done'"
     },
     "execution_count": 4,
     "metadata": {},
     "output_type": "execute_result"
    }
   ],
   "source": [
    "hh = hh_api.Hh_api()\n",
    "neo = neo_api.Neo_api()\n",
    "\"done\""
   ],
   "metadata": {
    "collapsed": false,
    "pycharm": {
     "name": "#%%\n"
    }
   }
  },
  {
   "cell_type": "code",
   "execution_count": null,
   "outputs": [],
   "source": [
    "vacs = hh.get_vacancy_by_name(name=\"Аналитик\",num_of_pages=1)\n",
    "\"done\""
   ],
   "metadata": {
    "collapsed": false,
    "pycharm": {
     "name": "#%%\n"
    }
   }
  },
  {
   "cell_type": "code",
   "execution_count": null,
   "outputs": [],
   "source": [
    "vacs"
   ],
   "metadata": {
    "collapsed": false,
    "pycharm": {
     "name": "#%%\n"
    }
   }
  },
  {
   "cell_type": "code",
   "execution_count": null,
   "outputs": [],
   "source": [
    "for vac in vacs:\n",
    "    vac_all = hh_prep.preproc_vacancy(vac)\n",
    "    neo.create_vacancy_all(vac_all)\n",
    "\"done\""
   ],
   "metadata": {
    "collapsed": false,
    "pycharm": {
     "name": "#%%\n"
    }
   }
  },
  {
   "cell_type": "code",
   "execution_count": null,
   "outputs": [],
   "source": [
    "vac = hh.get_vacancy_by_id_raw(49186604)"
   ],
   "metadata": {
    "collapsed": false,
    "pycharm": {
     "name": "#%%\n"
    }
   }
  },
  {
   "cell_type": "code",
   "execution_count": null,
   "outputs": [],
   "source": [
    "vac_all = hh_prep.preproc_vacancy(vac)\n",
    "vac_all\n"
   ],
   "metadata": {
    "collapsed": false,
    "pycharm": {
     "name": "#%%\n"
    }
   }
  },
  {
   "cell_type": "code",
   "execution_count": null,
   "outputs": [],
   "source": [
    "neo.create_vacancy_all(vac_all)"
   ],
   "metadata": {
    "collapsed": false,
    "pycharm": {
     "name": "#%%\n"
    }
   }
  },
  {
   "cell_type": "code",
   "execution_count": null,
   "outputs": [],
   "source": [
    "# res = api.get_vacancy_by_id_raw(49186602)\n",
    "res = hh.get_vacancy_by_name(\"Аналитик\")\n",
    "print(json.dumps(res, indent = 1, ensure_ascii=False))"
   ],
   "metadata": {
    "collapsed": false,
    "pycharm": {
     "name": "#%%\n"
    }
   }
  },
  {
   "cell_type": "code",
   "execution_count": null,
   "outputs": [],
   "source": [
    "%%time\n",
    "neo.count_ks_weight()\n",
    "\"done\""
   ],
   "metadata": {
    "collapsed": false,
    "pycharm": {
     "name": "#%%\n"
    }
   }
  },
  {
   "cell_type": "code",
   "execution_count": null,
   "outputs": [],
   "source": [
    "%%time\n",
    "neo.count_vac_weight()\n",
    "\"done\""
   ],
   "metadata": {
    "collapsed": false,
    "pycharm": {
     "name": "#%%\n"
    }
   }
  },
  {
   "cell_type": "code",
   "execution_count": null,
   "outputs": [],
   "source": [
    "%%time\n",
    "neo.get_similar_vacs_by_ks_all(50217143)\n"
   ],
   "metadata": {
    "collapsed": false,
    "pycharm": {
     "name": "#%%\n"
    }
   }
  },
  {
   "cell_type": "code",
   "execution_count": null,
   "outputs": [],
   "source": [
    "neo.get_kss_for_vac(50217143)"
   ],
   "metadata": {
    "collapsed": false,
    "pycharm": {
     "name": "#%%\n"
    }
   }
  },
  {
   "cell_type": "code",
   "execution_count": 7,
   "outputs": [],
   "source": [
    "ids = neo.export()\n"
   ],
   "metadata": {
    "collapsed": false,
    "pycharm": {
     "name": "#%%\n"
    }
   }
  },
  {
   "cell_type": "code",
   "execution_count": 12,
   "outputs": [
    {
     "data": {
      "text/plain": "b'WzUwNjQ0MDQzLCA1MDA2ODY0MCwgNTA0ODc3ODgsIDUwNDE3NzA3LCA1MDQzMjU3NCwgNDg1ODQ0OTYsIDQ5NTQyNTM2LCA0OTYyODI4MiwgNTA1MzU0ODQsIDUwMzU2MDA2LCA1MDU3MDYxMiwgNDk4ODg2OTUsIDUwNTcyMDU3LCA1MDI3MTU5MiwgNTAxNTczMDEsIDQ4MzIxNDI4LCA1MDExMTIwNywgNTA2MjkxMzUsIDUwNDEzMTE3LCA0ODU2MDUyOCwgNDkxNDc5MDEsIDQ5NjA5NzIwLCA1MDQyMDczMCwgNTAxNTM4NTQsIDQ5ODEwNTIyLCA0Nzc5NDIyNCwgNDkwMTA2ODAsIDUwNjQ0MDQ2LCA1MDY0NTM4OSwgNTAzMDU2NjUsIDQ2MjQxNTA5LCA1MDA0MDA2NCwgNTAxNDM2ODcsIDQ5NDQxMzY4LCA1MDY4MzI2MiwgNTAyMjEzOTgsIDQ5OTE2NTkwLCA1MDY1ODA3MCwgNTA2NDIxMjUsIDUwMDMyODY2LCA1MDY1MTgzMCwgNTA2NjU2MTUsIDUwNDgzMTY4LCA1MDQ5OTk5MSwgNTAyNzQyMTQsIDUwNTk1MTc3LCA1MDYxMDYxNiwgNTAyNzgxNjMsIDUwNjY1MTM2LCA1MDUwODAwOCwgNDUyNjg4NjcsIDQ5OTU1NTY2LCA0OTk1MTc3MywgNTAyMzY3NzYsIDUwNjMwNDMzLCA1MDY1NzA3MiwgNTAzOTc0NjAsIDQ5ODg0MTE5LCA1MDY4NTE1NSwgNTAzMjc0ODUsIDUwNjc1MDU1LCA1MDEzNTIxMCwgNTA1MTA1NTMsIDUwMzk1NjMxLCA1MDMyMTQ2MywgNDc1NDA4MDYsIDUwMjkyNTc4LCA1MDQ0NTk2OSwgNTA2ODc3OTQsIDUwMzI1Mjc5LCA0ODg1MDY3OSwgNDg1NDUyODMsIDQ3NjU4MTY0LCA1MDYwNDY2MCwgNTA2NDM3MTYsIDUwNDQ0MTQ2LCA1MDE1MzcwNywgNTA1MjU4NzIsIDUwMDM3MDk2LCA0OTU1ODA0OCwgNTAwMjkyNjYsIDUwMDUyMjY3LCA1MDMwNTA2OSwgNTA2MjQ1MDIsIDQ5NzcyMDg5LCA0OTk3Nzc1NiwgNTA2Mzk5NTksIDQ3NTU0NjcyLCA1MDY3NzQ3MiwgNTAwODA5MjEsIDQ5NjE0MjUyLCA0OTk5MDMwMSwgNDg5NjIzOTQsIDUwNjA5Njg3LCA0NzcwODY3MSwgNDk1NDY0OTcsIDUwNDEwMTU1LCAzNjcwNTA1NCwgNTA2NzQ4OTcsIDUwNTQyNjA1LCA0Njk0NzM0MiwgNTA1NjM4NTIsIDUwMjk4MDc1LCA1MDY2NjE4NywgNTAxMTYzMTEsIDQ4NDk1ODcxLCA1MDYxMzc5NiwgNTA0MzE0MTQsIDUwMzI4Njc4LCA1MDA1ODU0NCwgNTA2NjIyODksIDMzMTAwNzIzLCA1MDYwNjk5OSwgNTAxNzExNzYsIDQ2MDcyOTE5LCA1MDExNTE5NSwgNTA2NzYwODIsIDQ2NzExOTMzLCA0OTYyNTU3NSwgNTAxNTEyODMsIDQ3MTA3NTU3LCA0OTAzODQ5NSwgNDkyMjA1NjQsIDUwNjM5MzA0LCA0OTM2MjQ2MiwgNTAwNDUzNDEsIDUwMTg3Njc2LCA0ODk5NzI5MCwgNDgxMzc0ODcsIDUwMjUyMzY1LCA1MDI3MDU5MiwgNDg1MjY1MTIsIDQ5NTc2MjAyLCA0OTU0NzM2OCwgNDg5MjM0ODgsIDUwNjY0NTM2LCA0ODQ2Njg5NywgNDk4NzI2MjIsIDQ5OTk3Njk4LCA0OTgxMDUyMywgNDk5NTU1NDAsIDUwMjkwMTE4LCA1MDY2NDQ0NCwgNDk1MzAxMzAsIDUwMzE1NzMyLCA1MDI5Njk0NCwgNTA0ODk3MTMsIDUwMDIzMjkzLCA1MDUyMzY4MCwgNTAzMDYxMDcsIDQ5MTg5ODc5LCA0OTkyOTc1MCwgNDcyOTUwMDAsIDQ5NDcwMDM2LCA0ODEzMDg2MiwgNTAzNzE1NTAsIDUwMzQ5NTU5LCA1MDY4MTAzMSwgNDg1OTcyMjMsIDUwMjE3MTQzLCA0NjE0NzUxMywgNTA2NDcwNzgsIDUwNjM4NjgwLCA0OTY4OTUwMywgNTA2MTM4ODIsIDUwMTUwMzA4LCA1MDY3NDIyNiwgNDc4OTAxMzYsIDUwNjE1NzQ1LCA1MDYzMTU3MywgNDk2OTA0NzksIDUwMjE4MjQ3LCA0OTU3NTY5MywgNTA0MjM4MDYsIDUwNjA5NTkzLCA1MDU4MDE5MCwgNDk5Mzc1MTAsIDM5OTA0Mzk3LCA1MDQxNDM1MywgNTAwMTc0NzQsIDUwMTMwMDcxLCA1MDY2ODk0MiwgNTA0MjA4MjIsIDUwNjg0OTc3LCA1MDM3NDg4NSwgNTA1MTczMzMsIDUwNjAwNzAzLCA0OTQ2MDg0OSwgNTA2NDQ1NzcsIDQ4OTc4NjQ1LCA0ODk4NTI5NSwgNDk4MTA1MjQsIDUwMDYyNTI4LCA1MDY1MDYwNCwgNTA2MTU1NzQsIDUwNjI0NDQ5LCA1MDI5MzgxNiwgNTAxNDI0ODYsIDUwMzgyMjYyLCA1MDUzOTg5Ml0='"
     },
     "execution_count": 12,
     "metadata": {},
     "output_type": "execute_result"
    }
   ],
   "source": [
    "text = json.dumps(ids)\n",
    "b = base64.b64encode(text.encode())\n",
    "b"
   ],
   "metadata": {
    "collapsed": false,
    "pycharm": {
     "name": "#%%\n"
    }
   }
  },
  {
   "cell_type": "code",
   "execution_count": 15,
   "outputs": [
    {
     "data": {
      "text/plain": "[50644043,\n 50068640,\n 50487788,\n 50417707,\n 50432574,\n 48584496,\n 49542536,\n 49628282,\n 50535484,\n 50356006,\n 50570612,\n 49888695,\n 50572057,\n 50271592,\n 50157301,\n 48321428,\n 50111207,\n 50629135,\n 50413117,\n 48560528,\n 49147901,\n 49609720,\n 50420730,\n 50153854,\n 49810522,\n 47794224,\n 49010680,\n 50644046,\n 50645389,\n 50305665,\n 46241509,\n 50040064,\n 50143687,\n 49441368,\n 50683262,\n 50221398,\n 49916590,\n 50658070,\n 50642125,\n 50032866,\n 50651830,\n 50665615,\n 50483168,\n 50499991,\n 50274214,\n 50595177,\n 50610616,\n 50278163,\n 50665136,\n 50508008,\n 45268867,\n 49955566,\n 49951773,\n 50236776,\n 50630433,\n 50657072,\n 50397460,\n 49884119,\n 50685155,\n 50327485,\n 50675055,\n 50135210,\n 50510553,\n 50395631,\n 50321463,\n 47540806,\n 50292578,\n 50445969,\n 50687794,\n 50325279,\n 48850679,\n 48545283,\n 47658164,\n 50604660,\n 50643716,\n 50444146,\n 50153707,\n 50525872,\n 50037096,\n 49558048,\n 50029266,\n 50052267,\n 50305069,\n 50624502,\n 49772089,\n 49977756,\n 50639959,\n 47554672,\n 50677472,\n 50080921,\n 49614252,\n 49990301,\n 48962394,\n 50609687,\n 47708671,\n 49546497,\n 50410155,\n 36705054,\n 50674897,\n 50542605,\n 46947342,\n 50563852,\n 50298075,\n 50666187,\n 50116311,\n 48495871,\n 50613796,\n 50431414,\n 50328678,\n 50058544,\n 50662289,\n 33100723,\n 50606999,\n 50171176,\n 46072919,\n 50115195,\n 50676082,\n 46711933,\n 49625575,\n 50151283,\n 47107557,\n 49038495,\n 49220564,\n 50639304,\n 49362462,\n 50045341,\n 50187676,\n 48997290,\n 48137487,\n 50252365,\n 50270592,\n 48526512,\n 49576202,\n 49547368,\n 48923488,\n 50664536,\n 48466897,\n 49872622,\n 49997698,\n 49810523,\n 49955540,\n 50290118,\n 50664444,\n 49530130,\n 50315732,\n 50296944,\n 50489713,\n 50023293,\n 50523680,\n 50306107,\n 49189879,\n 49929750,\n 47295000,\n 49470036,\n 48130862,\n 50371550,\n 50349559,\n 50681031,\n 48597223,\n 50217143,\n 46147513,\n 50647078,\n 50638680,\n 49689503,\n 50613882,\n 50150308,\n 50674226,\n 47890136,\n 50615745,\n 50631573,\n 49690479,\n 50218247,\n 49575693,\n 50423806,\n 50609593,\n 50580190,\n 49937510,\n 39904397,\n 50414353,\n 50017474,\n 50130071,\n 50668942,\n 50420822,\n 50684977,\n 50374885,\n 50517333,\n 50600703,\n 49460849,\n 50644577,\n 48978645,\n 48985295,\n 49810524,\n 50062528,\n 50650604,\n 50615574,\n 50624449,\n 50293816,\n 50142486,\n 50382262,\n 50539892]"
     },
     "execution_count": 15,
     "metadata": {},
     "output_type": "execute_result"
    }
   ],
   "source": [
    "json.loads(base64.b64decode(b).decode())\n"
   ],
   "metadata": {
    "collapsed": false,
    "pycharm": {
     "name": "#%%\n"
    }
   }
  }
 ],
 "metadata": {
  "kernelspec": {
   "display_name": "Python 3",
   "language": "python",
   "name": "python3"
  },
  "language_info": {
   "codemirror_mode": {
    "name": "ipython",
    "version": 2
   },
   "file_extension": ".py",
   "mimetype": "text/x-python",
   "name": "python",
   "nbconvert_exporter": "python",
   "pygments_lexer": "ipython2",
   "version": "2.7.6"
  }
 },
 "nbformat": 4,
 "nbformat_minor": 0
}