{
 "cells": [
  {
   "cell_type": "code",
   "execution_count": 67,
   "outputs": [],
   "source": [
    "import contextlib\n",
    "import io\n",
    "import json\n",
    "import sys\n",
    "\n",
    "from neo4j import GraphDatabase"
   ],
   "metadata": {
    "collapsed": false,
    "pycharm": {
     "name": "#%%\n"
    }
   }
  },
  {
   "cell_type": "code",
   "execution_count": 68,
   "outputs": [],
   "source": [
    "@contextlib.contextmanager\n",
    "def nostdout():\n",
    "    save_stdout = sys.stdout\n",
    "    sys.stdout = io.BytesIO()\n",
    "    yield\n",
    "    sys.stdout = save_stdout"
   ],
   "metadata": {
    "collapsed": false,
    "pycharm": {
     "name": "#%%\n"
    }
   }
  },
  {
   "cell_type": "code",
   "execution_count": 69,
   "outputs": [
    {
     "data": {
      "text/plain": "{'host': 'neo4j',\n 'port': 7687,\n 'user': 'neo4j',\n 'pwd': 'admin',\n 'hello_message': 'hello, world'}"
     },
     "execution_count": 69,
     "metadata": {},
     "output_type": "execute_result"
    }
   ],
   "source": [
    "with open(\"../hello_world/settings.conf\") as fs:\n",
    "    cfg = json.load(fs)\n",
    "\n",
    "user, password = cfg[\"user\"], cfg[\"pwd\"]\n",
    "# uri = f\"bolt://{cfg['host']}:{cfg['port']}\"\n",
    "uri = f\"bolt://localhost:{cfg['port']}\"\n",
    "message = cfg[\"hello_message\"]\n",
    "\n",
    "cfg\n"
   ],
   "metadata": {
    "collapsed": false,
    "pycharm": {
     "name": "#%%\n"
    }
   }
  },
  {
   "cell_type": "code",
   "execution_count": 140,
   "outputs": [],
   "source": [
    "# Entities\n",
    "area = {'id': '1', 'parent_id': '113', 'name': 'Москва', 'areas': []}\n",
    "area2 = {'id': '2', 'name': 'Санкт-Петербург'}\n",
    "p_area = {'id': '113',\n",
    "          'parent_id': None,\n",
    "          'name': 'Россия'}\n",
    "currency = {'name': 'RUR'}\n",
    "employer = {'id': 4714154, 'name': 'Ельмикеев Евгений Иванович'}\n",
    "schedule = {'id': 'remote', 'name': 'Удаленная работа'}\n",
    "vacancy_type = {'id': 'open', 'name': 'Открытая'}\n",
    "vacancy = {'id': '49154439',\n",
    "           'name': 'Аналитик бизнес-процессов Amo CRM',\n",
    "           'has_test': False,\n",
    "           'salary_from': 70000,\n",
    "           'salary_to': 120000,\n",
    "           'published_at': '2021-11-04T14:52:20+0300',\n",
    "           'created_at': '2021-11-04T14:52:20+0300',\n",
    "           'requirement': 'Опыт работы от 1 года. Обязательное понимание ключевых метрик бизнеса. Опыт работы в amoCRM. Знание специфических метрик в отраслях будет...',\n",
    "           'responsibility': 'Общаться с клиентами, понимать бизнес-задачу клиента. Формировать предложение по решению, составить Т3 для разработчиков. Настраивать сервисы; СRM-cистема...'\n",
    "           }\n",
    "\n",
    "\n",
    "vacancy2 = {'id': '48621910',\n",
    "            'name': 'Финансовый аналитик',\n",
    "            'has_test': False,\n",
    "            'published_at': '2021-11-04T14:52:20+0300',\n",
    "            'created_at': '2021-11-04T14:52:20+0300',\n",
    "            'requirement': 'Высшее профессиональное образование (финансы, экономика, математика). Уверенный пользователь ПК (MSOffice), отличное владение пакетом Excel. Уверенный/продвинутый пользователь 1С, БИТ.Финанс...',\n",
    "            'responsibility': 'Формирование управленческой отчетности, сбор и аналитика данных. Настраивание процесса бюджетирования, бюджетного контроля и управления. Построение управленческой отчетности для пользователей внутри...'\n",
    "            }"
   ],
   "metadata": {
    "collapsed": false,
    "pycharm": {
     "name": "#%%\n"
    }
   }
  },
  {
   "cell_type": "code",
   "execution_count": 71,
   "outputs": [
    {
     "name": "stdout",
     "output_type": "stream",
     "text": [
      "waiting for neo4j connection...\n"
     ]
    },
    {
     "data": {
      "text/plain": "'neo4j connection established'"
     },
     "execution_count": 71,
     "metadata": {},
     "output_type": "execute_result"
    }
   ],
   "source": [
    "driver = None\n",
    "print(\"waiting for neo4j connection...\")\n",
    "while not driver:\n",
    "    try:\n",
    "        with nostdout():\n",
    "            driver = GraphDatabase.driver(uri, auth=(user, password))\n",
    "    except:\n",
    "        pass\n",
    "\n",
    "\"neo4j connection established\""
   ],
   "metadata": {
    "collapsed": false,
    "pycharm": {
     "name": "#%%\n"
    }
   }
  },
  {
   "cell_type": "code",
   "execution_count": 141,
   "outputs": [
    {
     "data": {
      "text/plain": "\"CREATE (a:Vacancy) SET a.id = '48621910' SET a.name = 'Финансовый аналитик' SET a.has_test = False SET a.published_at = '2021-11-04T14:52:20+0300' SET a.created_at = '2021-11-04T14:52:20+0300' SET a.requirement = 'Высшее профессиональное образование (финансы, экономика, математика). Уверенный пользователь ПК (MSOffice), отличное владение пакетом Excel. Уверенный/продвинутый пользователь 1С, БИТ.Финанс...' SET a.responsibility = 'Формирование управленческой отчетности, сбор и аналитика данных. Настраивание процесса бюджетирования, бюджетного контроля и управления. Построение управленческой отчетности для пользователей внутри...' RETURN a \""
     },
     "execution_count": 141,
     "metadata": {},
     "output_type": "execute_result"
    }
   ],
   "source": [
    "vac_q = f\"CREATE (a:Vacancy) \"\n",
    "for i,j in vacancy2.items():\n",
    "    if j is not None:\n",
    "        vac_q += f\"SET a.{i} = {repr(j)} \"\n",
    "\n",
    "vac_q += f\"RETURN a \"\n",
    "q = vac_q\n",
    "vac_q"
   ],
   "metadata": {
    "collapsed": false,
    "pycharm": {
     "name": "#%%\n"
    }
   }
  },
  {
   "cell_type": "code",
   "execution_count": 111,
   "outputs": [],
   "source": [
    "mrg_q =\"\"\"\n",
    "MATCH (a:Vacancy {id:'48621910'}),\n",
    "(b:Area {id:'1')\n",
    "MERGE (a)-[r:SUBAREA_OF]->(b)\n",
    "RETURN a\n",
    "\n",
    "\"\"\"\n",
    "\n",
    "\n",
    "q = mrg_q"
   ],
   "metadata": {
    "collapsed": false,
    "pycharm": {
     "name": "#%%\n"
    }
   }
  },
  {
   "cell_type": "code",
   "execution_count": 142,
   "outputs": [
    {
     "name": "stdout",
     "output_type": "stream",
     "text": [
      "[[<Node id=43 labels=frozenset({'Vacancy'}) properties={'has_test': False, 'responsibility': 'Формирование управленческой отчетности, сбор и аналитика данных. Настраивание процесса бюджетирования, бюджетного контроля и управления. Построение управленческой отчетности для пользователей внутри...', 'name': 'Финансовый аналитик', 'created_at': '2021-11-04T14:52:20+0300', 'id': '48621910', 'requirement': 'Высшее профессиональное образование (финансы, экономика, математика). Уверенный пользователь ПК (MSOffice), отличное владение пакетом Excel. Уверенный/продвинутый пользователь 1С, БИТ.Финанс...', 'published_at': '2021-11-04T14:52:20+0300'}>]]\n"
     ]
    }
   ],
   "source": [
    "\n",
    "\n",
    "transaction = lambda tx: tx.run(q).values()\n",
    "\n",
    "\n",
    "with driver.session() as session:\n",
    "    print(session.write_transaction(transaction))\n",
    "\n"
   ],
   "metadata": {
    "collapsed": false,
    "pycharm": {
     "name": "#%%\n"
    }
   }
  },
  {
   "cell_type": "code",
   "execution_count": 66,
   "outputs": [
    {
     "data": {
      "text/plain": "'closed'"
     },
     "execution_count": 66,
     "metadata": {},
     "output_type": "execute_result"
    }
   ],
   "source": [
    "driver.close()\n",
    "\"closed\""
   ],
   "metadata": {
    "collapsed": false,
    "pycharm": {
     "name": "#%%\n"
    }
   }
  },
  {
   "cell_type": "code",
   "execution_count": null,
   "outputs": [],
   "source": [],
   "metadata": {
    "collapsed": false,
    "pycharm": {
     "name": "#%%"
    }
   }
  }
 ],
 "metadata": {
  "kernelspec": {
   "display_name": "Python 3",
   "language": "python",
   "name": "python3"
  },
  "language_info": {
   "codemirror_mode": {
    "name": "ipython",
    "version": 2
   },
   "file_extension": ".py",
   "mimetype": "text/x-python",
   "name": "python",
   "nbconvert_exporter": "python",
   "pygments_lexer": "ipython2",
   "version": "2.7.6"
  }
 },
 "nbformat": 4,
 "nbformat_minor": 0
}